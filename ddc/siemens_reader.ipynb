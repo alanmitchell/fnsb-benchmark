{
 "cells": [
  {
   "cell_type": "markdown",
   "metadata": {},
   "source": [
    "# Development of a Reader for Siemens Trend CSV files"
   ]
  },
  {
   "cell_type": "markdown",
   "metadata": {},
   "source": [
    "When complete this code will be put in a `ddc_reader.py` module."
   ]
  },
  {
   "cell_type": "code",
   "execution_count": 176,
   "metadata": {},
   "outputs": [],
   "source": [
    "import csv\n",
    "import string\n",
    "import datetime\n",
    "import pandas as pd\n",
    "import numpy as np\n",
    "\n",
    "# import matplotlib pyplot commands\n",
    "from matplotlib.pyplot import *\n",
    " \n",
    "# Show Plots in the Notebook\n",
    "%matplotlib inline\n",
    " \n",
    "rcParams['figure.figsize']= (10, 8)   # set Chart Size\n",
    "rcParams['font.size'] = 14            # set Font size in Chart\n",
    "\n",
    "# 'style' the plot like fivethirtyeight.com website\n",
    "style.use('bmh')\n"
   ]
  },
  {
   "cell_type": "code",
   "execution_count": 9,
   "metadata": {},
   "outputs": [
    {
     "data": {
      "text/html": [
       "<div>\n",
       "<style>\n",
       "    .dataframe thead tr:only-child th {\n",
       "        text-align: right;\n",
       "    }\n",
       "\n",
       "    .dataframe thead th {\n",
       "        text-align: left;\n",
       "    }\n",
       "\n",
       "    .dataframe tbody tr th {\n",
       "        vertical-align: top;\n",
       "    }\n",
       "</style>\n",
       "<table border=\"1\" class=\"dataframe\">\n",
       "  <thead>\n",
       "    <tr style=\"text-align: right;\">\n",
       "      <th></th>\n",
       "      <th>a</th>\n",
       "      <th>b</th>\n",
       "    </tr>\n",
       "  </thead>\n",
       "  <tbody>\n",
       "    <tr>\n",
       "      <th>0</th>\n",
       "      <td>1.0</td>\n",
       "      <td>4.0</td>\n",
       "    </tr>\n",
       "    <tr>\n",
       "      <th>1</th>\n",
       "      <td>NaN</td>\n",
       "      <td>5.0</td>\n",
       "    </tr>\n",
       "    <tr>\n",
       "      <th>2</th>\n",
       "      <td>2.0</td>\n",
       "      <td>NaN</td>\n",
       "    </tr>\n",
       "    <tr>\n",
       "      <th>3</th>\n",
       "      <td>NaN</td>\n",
       "      <td>6.0</td>\n",
       "    </tr>\n",
       "    <tr>\n",
       "      <th>4</th>\n",
       "      <td>3.0</td>\n",
       "      <td>NaN</td>\n",
       "    </tr>\n",
       "  </tbody>\n",
       "</table>\n",
       "</div>"
      ],
      "text/plain": [
       "     a    b\n",
       "0  1.0  4.0\n",
       "1  NaN  5.0\n",
       "2  2.0  NaN\n",
       "3  NaN  6.0\n",
       "4  3.0  NaN"
      ]
     },
     "execution_count": 9,
     "metadata": {},
     "output_type": "execute_result"
    }
   ],
   "source": [
    "df1 = pd.DataFrame({'a':[1,2,3]}, index=[0,2,4])\n",
    "df2 = pd.DataFrame({'b':[4,5,6]}, index=[0,1,3])\n",
    "pd.concat([df1, df2], axis=1)"
   ]
  },
  {
   "cell_type": "code",
   "execution_count": 69,
   "metadata": {},
   "outputs": [],
   "source": [
    "def clean_string(s):\n",
    "    \"\"\"Function that \"cleans\" a string by first stripping leading and trailing\n",
    "    whitespace and then substituting an underscore for all other whitepace\n",
    "    and punctuation. After that substitution is made, any consecutive occurrences\n",
    "    of the underscore character are reduced to one occurrence. \n",
    "    Finally, the string is converted to lower case.\n",
    "    Returns the cleaned string.\n",
    "\n",
    "    Input Parameters:\n",
    "    -----------------\n",
    "    s:  The string to clean.\n",
    "    \"\"\"\n",
    "    to_sub = string.whitespace + string.punctuation\n",
    "    trans_table = str.maketrans(to_sub, len(to_sub) * '_')\n",
    "    fixed = str.translate(s.strip(), trans_table)\n",
    "\n",
    "    while True:\n",
    "        new_fixed = fixed.replace('_' * 2, '_')\n",
    "        if new_fixed == fixed:\n",
    "            break\n",
    "        fixed = new_fixed\n",
    "\n",
    "    return fixed.lower()\n"
   ]
  },
  {
   "cell_type": "code",
   "execution_count": 188,
   "metadata": {},
   "outputs": [],
   "source": [
    "reader = None"
   ]
  },
  {
   "cell_type": "code",
   "execution_count": 178,
   "metadata": {},
   "outputs": [],
   "source": [
    "file_name = 'data/siemens_sample.csv'\n",
    "reader = csv.reader(open(file_name))\n",
    "include_location = False   # if True include location in point ID\n",
    "\n",
    "# For running in the notebook, this controls how many rows are shown\n",
    "# for each execution of the cell below.\n",
    "num_rows_to_show = 30000\n",
    "\n",
    "data_dict = {}"
   ]
  },
  {
   "cell_type": "code",
   "execution_count": 179,
   "metadata": {},
   "outputs": [],
   "source": [
    "# repeatedly execute this cell to step through chunks of the data\n",
    "row_ct = 0\n",
    "for row in reader:\n",
    "    #print(row)\n",
    "    f1 = row[0]\n",
    "    if '/' in f1:\n",
    "        # this is a row with a data point in it.\n",
    "        # create a date/time string and parse into a Python datetime\n",
    "        ts = '{} {}'.format(row[0], row[1])\n",
    "        ts = datetime.datetime.strptime(ts, '%m/%d/%Y %H:%M:%S')\n",
    "        \n",
    "        # get the value, which is usually a number, but sometimes a string.\n",
    "        # first try to convert to a number, and if it errors, just return it as a string\n",
    "        try:\n",
    "            val = float(row[2])\n",
    "        except:\n",
    "            val = row[2]\n",
    "            \n",
    "        #print(pt_id, ts, val)\n",
    "        tstamps, vals = data_dict.get(pt_id, ([], []))\n",
    "        tstamps.append(ts)\n",
    "        vals.append(val)\n",
    "        data_dict[pt_id] = (tstamps, vals)\n",
    "        \n",
    "    elif f1.startswith('Point'):\n",
    "        pt_id = clean_string(row[1])\n",
    "\n",
    "    elif f1.startswith('Trend L'):\n",
    "        if include_location:\n",
    "            pt_id = '{}_{}'.format(clean_string(row[1]), pt_id)\n",
    "    \n",
    "    row_ct += 1\n",
    "    if row_ct == num_rows_to_show: break\n"
   ]
  },
  {
   "cell_type": "code",
   "execution_count": 180,
   "metadata": {},
   "outputs": [],
   "source": [
    "df_final = pd.DataFrame()\n",
    "for pt_id in data_dict.keys():\n",
    "    tstamps, vals = data_dict[pt_id]\n",
    "    df = pd.DataFrame(vals, index=tstamps, columns=[pt_id])\n",
    "    df_final = pd.concat([df_final, df], )\n"
   ]
  },
  {
   "cell_type": "code",
   "execution_count": 185,
   "metadata": {},
   "outputs": [
    {
     "data": {
      "text/plain": [
       "<matplotlib.axes._subplots.AxesSubplot at 0x22690337c18>"
      ]
     },
     "execution_count": 185,
     "metadata": {},
     "output_type": "execute_result"
    },
    {
     "data": {
      "image/png": "[encoded data removed]",
      "text/plain": [
       "<matplotlib.figure.Figure at 0x22690040fd0>"
      ]
     },
     "metadata": {},
     "output_type": "display_data"
    }
   ],
   "source": [
    "df_final.bh_100w_tec_room_temp.dropna().plot()"
   ]
  },
  {
   "cell_type": "code",
   "execution_count": 187,
   "metadata": {},
   "outputs": [],
   "source": [
    "df_final.to_csv('test.csv')"
   ]
  }
 ],
 "metadata": {
  "kernelspec": {
   "display_name": "Python 3.5",
   "language": "python",
   "name": "python35"
  },
  "language_info": {
   "codemirror_mode": {
    "name": "ipython",
    "version": 3
   },
   "file_extension": ".py",
   "mimetype": "text/x-python",
   "name": "python",
   "nbconvert_exporter": "python",
   "pygments_lexer": "ipython3",
   "version": "3.5.3"
  }
 },
 "nbformat": 4,
 "nbformat_minor": 2
}
