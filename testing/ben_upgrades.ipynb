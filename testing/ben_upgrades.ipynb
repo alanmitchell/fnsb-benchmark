{
 "cells": [
  {
   "cell_type": "markdown",
   "metadata": {},
   "source": [
    "## Used to Develop New Benchmarking Features\n",
    "### Ben's Notebook\n",
    "Assumes that `df_raw.pkl`, `df_processed.pkl`, and `util_obj.pkl` are located in the directory above this one."
   ]
  },
  {
   "cell_type": "code",
   "execution_count": 1,
   "metadata": {},
   "outputs": [],
   "source": [
    "import pickle\n",
    "import pandas as pd\n",
    "import numpy as np\n",
    "from importlib import reload\n",
    "import sys\n",
    "from datetime import datetime\n",
    "\n",
    "import matplotlib.pyplot as plt\n",
    "%matplotlib inline\n",
    "\n",
    "# bench_util module is in the parent directory, because it will be part of\n",
    "# the production code.  Add the parent directory to the Path so Python can\n",
    "# import from there\n",
    "sys.path.insert(0, '../')   \n",
    "import bench_util as bu\n",
    "import graph_util as gu\n",
    "import os "
   ]
  },
  {
   "cell_type": "code",
   "execution_count": 2,
   "metadata": {},
   "outputs": [],
   "source": [
    "# Unpickle the raw DataFrame\n",
    "df_raw = pd.read_pickle('../df_raw.pkl')\n",
    "\n",
    "# Unpickle the processed DataFrame.\n",
    "dfp = pd.read_pickle('../df_processed.pkl')\n",
    "\n",
    "# Unpickle the Utility object\n",
    "ut = pickle.load(open('../util_obj.pkl', 'rb'))"
   ]
  },
  {
   "cell_type": "code",
   "execution_count": 4,
   "metadata": {},
   "outputs": [],
   "source": [
    "#dfp.site_id.unique()"
   ]
  },
  {
   "cell_type": "code",
   "execution_count": 5,
   "metadata": {},
   "outputs": [],
   "source": [
    "# Show the first record of the raw dataframe\n",
    "#df_raw.iloc[0]\n"
   ]
  },
  {
   "cell_type": "code",
   "execution_count": 6,
   "metadata": {},
   "outputs": [],
   "source": [
    "# Show the first record of the processed dataframe\n",
    "#dfp.iloc[0]"
   ]
  },
  {
   "cell_type": "code",
   "execution_count": 7,
   "metadata": {},
   "outputs": [],
   "source": [
    "# Show type information and counts of processed dataframe\n",
    "#dfp.info()"
   ]
  },
  {
   "cell_type": "code",
   "execution_count": 8,
   "metadata": {},
   "outputs": [],
   "source": [
    "# Show stats for numeric columns\n",
    "#dfp.describe()"
   ]
  },
  {
   "cell_type": "code",
   "execution_count": 9,
   "metadata": {},
   "outputs": [],
   "source": [
    "# Show counts of service types\n",
    "#dfp.service_type.value_counts()"
   ]
  },
  {
   "cell_type": "code",
   "execution_count": 10,
   "metadata": {},
   "outputs": [],
   "source": [
    "#dfp.item_desc.value_counts()"
   ]
  },
  {
   "cell_type": "code",
   "execution_count": 11,
   "metadata": {},
   "outputs": [],
   "source": [
    "#pd.pivot_table(dfp, values='site_id', index='service_type', columns='units', aggfunc='count')"
   ]
  },
  {
   "cell_type": "code",
   "execution_count": null,
   "metadata": {},
   "outputs": [],
   "source": [
    "dfp.head()"
   ]
  },
  {
   "cell_type": "code",
   "execution_count": 21,
   "metadata": {},
   "outputs": [
    {
     "data": {
      "text/plain": [
       "array([2010, 2011, 2012, 2013, 2014, 2015, 2016, 2017, 2018, 2019, 2009],\n",
       "      dtype=int64)"
      ]
     },
     "execution_count": 21,
     "metadata": {},
     "output_type": "execute_result"
    }
   ],
   "source": [
    "fy = dfp['fiscal_year'].unique()\n",
    "fy"
   ]
  },
  {
   "cell_type": "code",
   "execution_count": 24,
   "metadata": {},
   "outputs": [],
   "source": [
    "def FY_spreadsheets(dfp, ut):\n",
    "    \"\"\" Iterates through pre-processed billing dataframe and creates spreadsheet for each fiscal year. Saves .xlsx \n",
    "        spreadsheet for each fiscal year with a row of data for each sites and grouping.  Returns nothing.\n",
    "    \"\"\"\n",
    "    \n",
    "    # --- Read the CSV file and convert the billing period dates into \n",
    "    #     real Pandas dates\n",
    "\n",
    "    ## Filter by FY, Pivot Table by Site\n",
    "    fy = dfp['fiscal_year'].unique()\n",
    "\n",
    "    for year in fy:\n",
    "\n",
    "        df_fy = dfp.query('fiscal_year==@year')\n",
    "\n",
    "        # Summarize FY Cost and usage by Service Type\n",
    "\n",
    "        # Create pivot table of cost data\n",
    "        df_FYcost = pd.pivot_table(df_fy, index=['site_id'], columns='service_type', values='cost', aggfunc=np.sum)\n",
    "        df_FYcost = bu.add_missing_columns(df_FYcost, bu.missing_services([]))\n",
    "        try: \n",
    "            df_FYcost['electricity_energy'] = pd.pivot_table(df_fy, index=['site_id'], columns='units', values='cost', aggfunc=np.sum)['kWh']\n",
    "        except:\n",
    "            df_FYcost['electricity_energy'] = 0.0\n",
    "        try:\n",
    "            df_FYcost['electricity_demand'] = pd.pivot_table(df_fy, index=['site_id'], columns='units', values='cost', aggfunc=np.sum)['kW']\n",
    "        except:\n",
    "            df_FYcost['electricity_demand'] = 0.0\n",
    "        df_FYcost = df_FYcost.add_suffix('_cost')\n",
    "\n",
    "        # Calculate additional cost totals\n",
    "        df_FYcost['total_utility_cost'] = df_FYcost.sum(axis=1)\n",
    "        df_FYcost['total_water_cost'] = df_FYcost[['water_cost', 'sewer_cost']].sum(axis=1)\n",
    "        df_FYcost['total_energy_cost'] = df_FYcost.total_utility_cost - df_FYcost.total_water_cost\n",
    "        df_FYcost['total_heat_cost'] = df_FYcost.total_energy_cost - df_FYcost.electricity_cost\n",
    "\n",
    "        # Create pivot table of usage data in native units\n",
    "        df_FYusage = pd.pivot_table(df_fy, index=['site_id'], columns='service_type', values='usage', aggfunc=np.sum)\n",
    "        try:\n",
    "            df_FYusage['electricity_energy'] = pd.pivot_table(df_fy, index=['site_id'], columns='units', values='usage', aggfunc=np.sum)['kWh']\n",
    "        except:\n",
    "            df_FYusage['electricity_energy'] = 0.0\n",
    "        try:\n",
    "            df_FYusage['electricity_demand'] = pd.pivot_table(df_fy, index=['site_id'], columns='units', values='usage', aggfunc=np.sum)['kW']\n",
    "        except:\n",
    "            df_FYusage['electricity_demand'] = 0.0\n",
    "        df_FYusage = bu.add_missing_columns(df_FYusage, bu.missing_services([]))\n",
    "        df_FYusage = df_FYusage.add_suffix('_usage')\n",
    "\n",
    "        # Create pivot table of usage data in mmbtu units\n",
    "        df_FYBTU = pd.pivot_table(df_fy, index=['site_id'], columns='service_type', values='mmbtu', aggfunc=np.sum)\n",
    "        df_FYBTU = bu.add_missing_columns(df_FYBTU, bu.missing_services([]))\n",
    "        df_FYBTU = df_FYBTU.add_suffix('_mmbtu')\n",
    "        df_FYBTU['total_energy_mmbtu'] = df_FYBTU.sum(axis=1)\n",
    "        df_FYBTU['total_heat_mmbtu'] = df_FYBTU.total_energy_mmbtu - df_FYBTU.electricity_mmbtu\n",
    "\n",
    "        #Merge Dataframes\n",
    "        df_FYtotal = pd.concat([df_FYcost, df_FYusage, df_FYBTU], axis=1)\n",
    "\n",
    "        # Add in HDD an sqft to df_FYtotal\n",
    "        # iterate through sites\n",
    "\n",
    "        sq_ft=[]\n",
    "        dd=[]\n",
    "\n",
    "        for site_id, row in df_FYtotal.iterrows():\n",
    "            df_site = df_fy.query('site_id == @site_id')\n",
    "            mo_present = bu.months_present(df_site, yr_col='fiscal_year', mo_col='fiscal_mo')\n",
    "            dd_series = ut.degree_days_yearly(mo_present, site_id)\n",
    "            dd.append(dd_series.iloc[0])\n",
    "            try:\n",
    "                bi = ut.building_info(site_id)\n",
    "                sq = bi['sq_ft']\n",
    "            except:\n",
    "                print(site_id)    \n",
    "                sq = np.nan\n",
    "            sq_ft.append(sq)\n",
    "\n",
    "\n",
    "        df_FYtotal['dd'] = dd\n",
    "        df_FYtotal['sq_ft'] = sq_ft\n",
    "        df_FYtotal.head()\n",
    "\n",
    "        # Caclulate EUI, ECI\n",
    "\n",
    "        #Use HDD and SQFT to calculate EUIs and ECI.\n",
    "        df_FYtotal['eci'] = df_FYtotal.total_energy_cost / df_FYtotal.sq_ft\n",
    "        df_FYtotal['uci'] = df_FYtotal.total_utility_cost / df_FYtotal.sq_ft\n",
    "        df_FYtotal['eui'] = df_FYtotal.total_energy_mmbtu * 1e3 / df_FYtotal.sq_ft\n",
    "        df_FYtotal['specific_eui'] = df_FYtotal.total_heat_mmbtu * 1e6 / df_FYtotal.dd / df_FYtotal.sq_ft\n",
    "\n",
    "        #Select Desired Columns and export to excel  - This is the spreadsheet per site, row per month output\n",
    "\n",
    "        df_export=df_FYtotal[['dd',\n",
    "                            'sq_ft',\n",
    "                            'electricity_energy_cost',\n",
    "                            'electricity_demand_cost',\n",
    "                            'electricity_cost', \n",
    "                            'fuel_oil_cost',\n",
    "                            'natural_gas_cost',\n",
    "                            'district_heat_cost',\n",
    "                            'total_energy_cost',\n",
    "                            'water_cost',\n",
    "                            'sewer_cost',\n",
    "                            'total_water_cost',\n",
    "                            'total_utility_cost',\n",
    "                            'eci',\n",
    "                            'uci',\n",
    "                            'electricity_energy_usage',\n",
    "                            'electricity_demand_usage',\n",
    "                            'electricity_mmbtu',\n",
    "                            'fuel_oil_usage',\n",
    "                            'fuel_oil_mmbtu',\n",
    "                            'natural_gas_usage',\n",
    "                            'natural_gas_mmbtu',\n",
    "                            'district_heat_usage',\n",
    "                            'total_heat_mmbtu',\n",
    "                            'eui',\n",
    "                            'specific_eui',\n",
    "                            'total_energy_mmbtu',\n",
    "                            'water_usage',\n",
    "                            'sewer_usage']]\n",
    "\n",
    "        df_export.to_excel(f\"FY{year}_Site_Summary_Data.xlsx\")\n",
    " \n"
   ]
  },
  {
   "cell_type": "code",
   "execution_count": null,
   "metadata": {},
   "outputs": [],
   "source": [
    "df_FYcost.head()"
   ]
  },
  {
   "cell_type": "code",
   "execution_count": null,
   "metadata": {},
   "outputs": [],
   "source": [
    "df_FYusage.head()"
   ]
  },
  {
   "cell_type": "code",
   "execution_count": null,
   "metadata": {},
   "outputs": [],
   "source": [
    "df_FYBTU.head()"
   ]
  },
  {
   "cell_type": "code",
   "execution_count": null,
   "metadata": {},
   "outputs": [],
   "source": [
    "df_FYtotal.index[1]"
   ]
  },
  {
   "cell_type": "code",
   "execution_count": null,
   "metadata": {},
   "outputs": [],
   "source": []
  },
  {
   "cell_type": "code",
   "execution_count": null,
   "metadata": {},
   "outputs": [],
   "source": []
  },
  {
   "cell_type": "code",
   "execution_count": null,
   "metadata": {},
   "outputs": [],
   "source": [
    "# See how the building_info() method of the Utility object works\n",
    "ut.building_info('03')"
   ]
  },
  {
   "cell_type": "code",
   "execution_count": null,
   "metadata": {},
   "outputs": [],
   "source": [
    "# See how the building_info() method of the Utility object works\n",
    "ut.building_info('DIPMP1')"
   ]
  },
  {
   "cell_type": "code",
   "execution_count": null,
   "metadata": {},
   "outputs": [],
   "source": [
    "\n"
   ]
  },
  {
   "cell_type": "code",
   "execution_count": 25,
   "metadata": {},
   "outputs": [],
   "source": [
    "# Set up variables (site, df, ut):\n",
    "\"\"\"As well as returning template data, this function writes a spreadsheet\n",
    "that summarizes values for every building.  The spreadsheet is written to\n",
    "'output/extra_data/site_summary_FYYYYY.xlsx'.\n",
    "\"\"\"\n",
    "\n",
    "site=\"DIPMP1\"\n",
    "df = dfp"
   ]
  },
  {
   "cell_type": "code",
   "execution_count": null,
   "metadata": {},
   "outputs": [],
   "source": [
    "# Start a dictionary with the main key to hold the template data\n",
    "template_data = {'energy_index_comparison': {}}\n",
    "\n",
    "# --------- Table 1, Yearly Table\n",
    "\n",
    "# Filter down to just this site's bills and only services that\n",
    "# are energy services.\n",
    "energy_services = bu.missing_energy_services([])\n",
    "df1 = df.query('site_id==@site') \n",
    "               # Removed to include water in df1:  and service_type==@energy_services')"
   ]
  },
  {
   "cell_type": "code",
   "execution_count": 26,
   "metadata": {
    "scrolled": true
   },
   "outputs": [],
   "source": [
    "def Site_spreadsheets(site, df, ut):\n",
    "    \"\"\" Uses pre-processed billing dataframe and creates spreadsheet for each site. Saves .xlsx \n",
    "        spreadsheet for given site with a row of data for each month.  Returns nothing.\n",
    "        \"\"\"\n",
    "    # Filter down to just this site's bills and only services that\n",
    "    # are energy services.\n",
    "    energy_services = bu.missing_energy_services([])\n",
    "    df1 = df.query('site_id==@site') \n",
    "\n",
    "    # Add in degree days to DataFrame\n",
    "    months_present = bu.months_present(df1)\n",
    "    deg_days = ut.degree_days_monthly(months_present, site)\n",
    "    deg_days.set_index(['fiscal_year', 'fiscal_mo'], inplace=True)\n",
    "\n",
    "\n",
    "    # Get building square footage and calculate EUIs and ECI.\n",
    "    sq_ft = ut.building_info(site)['sq_ft']\n",
    "\n",
    "\n",
    "    # Summarize Monthly Cost and usage by Service Type\n",
    "    df_monthlycost = pd.pivot_table(df1, index=['fiscal_year', 'fiscal_mo'], columns='service_type', values='cost', aggfunc=np.sum)\n",
    "    df_monthlycost = bu.add_missing_columns(df_monthlycost, bu.missing_services([]))\n",
    "    df_monthlycost['electricity_energy'] = pd.pivot_table(df1, index=['fiscal_year', 'fiscal_mo'], columns='units', values='cost', aggfunc=np.sum)['kWh']\n",
    "    df_monthlycost['electricity_demand'] = pd.pivot_table(df1, index=['fiscal_year', 'fiscal_mo'], columns='units', values='cost', aggfunc=np.sum)['kW']\n",
    "    df_monthlycost = df_monthlycost.add_suffix('_cost')\n",
    "\n",
    "    df_monthlycost['total_utility_cost'] = df_monthlycost.sum(axis=1)\n",
    "    df_monthlycost['total_water_cost'] = df_monthlycost[['water_cost', 'sewer_cost']].sum(axis=1)\n",
    "    df_monthlycost['total_energy_cost'] = df_monthlycost.total_utility_cost - df_monthlycost.total_water_cost\n",
    "    df_monthlycost['total_heat_cost'] = df_monthlycost.total_energy_cost - df_monthlycost.electricity_cost\n",
    "    df_monthlycost['eci'] = df_monthlycost.total_energy_cost / sq_ft\n",
    "    df_monthlycost['uci'] = df_monthlycost.total_utility_cost / sq_ft\n",
    "\n",
    "    df_monthlycost_rolling = df_monthlycost.rolling(12, min_periods=None, center=False, win_type=None, on=None, axis=0, closed=None).sum().add_suffix('_12mo')\n",
    "\n",
    "\n",
    "    df_monthlyusage = pd.pivot_table(df1, index=['fiscal_year', 'fiscal_mo'], columns='service_type', values='usage', aggfunc=np.sum)\n",
    "\n",
    "    df_monthlyusage['electricity_energy'] = pd.pivot_table(df1, index=['fiscal_year', 'fiscal_mo'], columns='units', values='usage', aggfunc=np.sum)['kWh']\n",
    "    df_monthlyusage['electricity_demand'] = pd.pivot_table(df1, index=['fiscal_year', 'fiscal_mo'], columns='units', values='usage', aggfunc=np.sum)['kW']\n",
    "    df_monthlyusage = bu.add_missing_columns(df_monthlyusage, bu.missing_services([]))\n",
    "    df_monthlyusage = df_monthlyusage.add_suffix('_usage')\n",
    "\n",
    "    df_monthlyusage_rolling = df_monthlyusage.rolling(12, min_periods=None, center=False, win_type=None, on=None, axis=0, closed=None).sum().add_suffix('_12mo')\n",
    "    df_monthlyusage_rolling['electricity_demand_usage_12mo'] = df_monthlyusage_rolling['electricity_demand_usage_12mo'] / 12\n",
    "\n",
    "\n",
    "    df_monthlyBTU = pd.pivot_table(df1, index=['fiscal_year', 'fiscal_mo'], columns='service_type', values='mmbtu', aggfunc=np.sum)\n",
    "    df_monthlyBTU = bu.add_missing_columns(df_monthlyBTU, bu.missing_services([]))\n",
    "    df_monthlyBTU = df_monthlyBTU.add_suffix('_mmbtu')\n",
    "    df_monthlyBTU['total_energy_mmbtu'] = df_monthlyBTU.sum(axis=1)\n",
    "    df_monthlyBTU['total_heat_mmbtu'] = df_monthlyBTU.total_energy_mmbtu - df_monthlyBTU.electricity_mmbtu\n",
    "    df_monthlyBTU['eui'] = df_monthlyBTU.total_energy_mmbtu * 1e3 / sq_ft\n",
    "\n",
    "    df_monthlyBTU = pd.merge(df_monthlyBTU, deg_days, how='left', left_index=True, right_index=True)  #right_on=['fiscal_year', 'fiscal_mo'])\n",
    "\n",
    "    df_monthlyBTU['specific eui'] = df_monthlyBTU.total_heat_mmbtu * 1e6 / df_monthlyBTU.dd / sq_ft\n",
    "\n",
    "    df_monthlyBTU_rolling = df_monthlyBTU.rolling(12, min_periods=None, center=False, win_type=None, on=None, axis=0, closed=None).sum().add_suffix('_12mo')\n",
    "\n",
    "    #Merge Dataframes\n",
    "\n",
    "    df_total = pd.concat([df_monthlycost, df_monthlyusage, df_monthlyBTU, df_monthlycost_rolling, df_monthlyusage_rolling, df_monthlyBTU_rolling], axis=1)\n",
    "\n",
    "    #Select Desired Columns and export to excel  - This is the spreadsheet per site, row per month output\n",
    "\n",
    "    df_export=df_total[['dd', \n",
    "                        'electricity_energy_cost',\n",
    "                        'electricity_demand_cost',\n",
    "                        'electricity_cost', \n",
    "                        'fuel_oil_cost',\n",
    "                        'natural_gas_cost',\n",
    "                        'district_heat_cost',\n",
    "                        'total_energy_cost',\n",
    "                        'water_cost',\n",
    "                        'sewer_cost',\n",
    "                        'total_water_cost',\n",
    "                        'total_utility_cost',\n",
    "                        'eci',\n",
    "                        'uci',\n",
    "                        'electricity_energy_usage',\n",
    "                        'electricity_demand_usage',\n",
    "                        'electricity_mmbtu',\n",
    "                        'fuel_oil_usage',\n",
    "                        'fuel_oil_mmbtu',\n",
    "                        'natural_gas_usage',\n",
    "                        'natural_gas_mmbtu',\n",
    "                        'district_heat_usage',\n",
    "                        'total_heat_mmbtu',\n",
    "                        'eui',\n",
    "                        'specific eui',\n",
    "                        'total_energy_mmbtu',\n",
    "                        'water_usage',\n",
    "                        'sewer_usage',\n",
    "                        'dd_12mo',\n",
    "                        'electricity_energy_cost_12mo',\n",
    "                        'electricity_demand_cost_12mo',\n",
    "                        'electricity_cost_12mo',\n",
    "                        'fuel_oil_cost_12mo',\n",
    "                        'natural_gas_cost_12mo',\n",
    "                        'district_heat_cost_12mo',\n",
    "                        'total_heat_cost_12mo',\n",
    "                        'total_energy_cost_12mo',\n",
    "                        'water_cost_12mo',\n",
    "                        'sewer_cost_12mo',\n",
    "                        'total_water_cost_12mo',\n",
    "                        'total_utility_cost_12mo',\n",
    "                        'eci_12mo',\n",
    "                        'uci_12mo',\n",
    "                        'electricity_energy_usage_12mo',\n",
    "                        'electricity_demand_usage_12mo',\n",
    "                        'electricity_mmbtu_12mo',\n",
    "                        'fuel_oil_usage_12mo',\n",
    "                        'fuel_oil_mmbtu_12mo',\n",
    "                        'natural_gas_usage_12mo',\n",
    "                        'natural_gas_mmbtu_12mo',\n",
    "                        'district_heat_usage_12mo',\n",
    "                        'total_heat_mmbtu_12mo',\n",
    "                        'eui_12mo',\n",
    "                        'specific eui_12mo',\n",
    "                        'total_energy_mmbtu_12mo',\n",
    "                        'water_usage_12mo',\n",
    "                        'sewer_usage_12mo']]\n",
    "\n",
    "    df_export.to_excel(f\"Site_{site}_Monthly_Summary_Data.xlsx\")"
   ]
  },
  {
   "cell_type": "code",
   "execution_count": null,
   "metadata": {},
   "outputs": [],
   "source": [
    "## Following cells create export spreadheet by site with row for every month"
   ]
  },
  {
   "cell_type": "code",
   "execution_count": null,
   "metadata": {},
   "outputs": [],
   "source": [
    "# Consolidate data to monthly rows\n",
    "\n",
    "\n"
   ]
  },
  {
   "cell_type": "code",
   "execution_count": null,
   "metadata": {
    "scrolled": false
   },
   "outputs": [],
   "source": [
    "#deg_days\n",
    "#df_monthlyBTU_rolling\n"
   ]
  },
  {
   "cell_type": "code",
   "execution_count": null,
   "metadata": {},
   "outputs": [],
   "source": []
  },
  {
   "cell_type": "code",
   "execution_count": null,
   "metadata": {},
   "outputs": [],
   "source": [
    "\n"
   ]
  },
  {
   "cell_type": "code",
   "execution_count": null,
   "metadata": {},
   "outputs": [],
   "source": [
    "## End of Ben edits for spreadsheet export"
   ]
  },
  {
   "cell_type": "code",
   "execution_count": null,
   "metadata": {},
   "outputs": [],
   "source": []
  },
  {
   "cell_type": "code",
   "execution_count": null,
   "metadata": {},
   "outputs": [],
   "source": [
    "# Add in any missing columns\n",
    "bu.add_missing_columns(df3, energy_svcs)\n",
    "\n",
    "# Change column names\n",
    "cols = ['{}_cost'.format(col) for col in df3.columns]\n",
    "df3.columns = cols\n",
    "\n",
    "# Add a total energy cost column\n",
    "df3['total_energy_cost'] = df3.sum(axis=1)\n",
    "\n",
    "# Add a total Heat Cost Column\n",
    "df3['total_heat_cost'] = df3.total_energy_cost.fillna(0.0) - df3.electricity_cost.fillna(0.0)\n",
    "\n",
    "# Add this to the final DataFrame\n",
    "df_final = pd.concat([df_final, df3], axis=1, sort=True)\n",
    "#for service_type\n",
    "df_sitemonthly = df1.groupby(['fiscal_year', 'fiscal_mo'], as_index=False).sum()\n",
    "\n",
    "#df1.query(\"service_type=='electricity'\").groupby('fiscal_year').sum()[['mmbtu']]\n",
    "df_sitemonthly\n",
    "# Add columns to monthly site data"
   ]
  },
  {
   "cell_type": "code",
   "execution_count": null,
   "metadata": {},
   "outputs": [],
   "source": []
  },
  {
   "cell_type": "code",
   "execution_count": null,
   "metadata": {},
   "outputs": [],
   "source": []
  },
  {
   "cell_type": "code",
   "execution_count": null,
   "metadata": {},
   "outputs": [],
   "source": [
    "# Only do this table if there are energy services.\n",
    "if not df1.empty:\n",
    "\n",
    "    # Sum Energy Costs and Usage\n",
    "    df2 = pd.pivot_table(df1, index='fiscal_year', values=['cost', 'mmbtu'], aggfunc=np.sum)\n",
    "\n",
    "    # Add a column showing number of months present in each fiscal year.\n",
    "    bu.add_month_count_column(df2, df1)\n",
    "\n",
    "    # Make a column with just the Heat MMBtu\n",
    "    dfe = df1.query(\"service_type=='electricity'\").groupby('fiscal_year').sum()[['mmbtu']]\n",
    "    dfe.rename(columns={'mmbtu': 'elec_mmbtu'}, inplace = True)\n",
    "    df2 = df2.merge(dfe, how='left', left_index=True, right_index=True)\n",
    "    df2['elec_mmbtu'] = df2['elec_mmbtu'].fillna(0.0)\n",
    "    df2['heat_mmbtu'] = df2.mmbtu - df2.elec_mmbtu\n",
    "\n",
    "    # Add in degree days to DataFrame\n",
    "    months_present = bu.months_present(df1)\n",
    "    deg_days = ut.degree_days_yearly(months_present, site)\n",
    "    df2['hdd'] = deg_days\n",
    "\n",
    "    # Get building square footage and calculate EUIs and ECI.\n",
    "    sq_ft = ut.building_info(site)['sq_ft']\n",
    "    df2['eui'] = df2.mmbtu * 1e3 / sq_ft\n",
    "    df2['eci'] = df2.cost / sq_ft\n",
    "    df2['specific_eui'] = df2.heat_mmbtu * 1e6 / df2.hdd / sq_ft\n",
    "\n",
    "    # Restrict to full years\n",
    "    df2 = df2.query(\"month_count == 12\").copy()\n",
    "\n",
    "    # Reverse the years\n",
    "    df2.sort_index(ascending=False, inplace=True)\n",
    "\n",
    "    # get the rows as a list of dictionaries and put into\n",
    "    # final template data dictionary.\n",
    "    template_data['energy_index_comparison']['yearly_table'] = {\n",
    "        'rows': bu.df_to_dictionaries(df2)\n",
    "    }\n",
    "\n",
    "    "
   ]
  },
  {
   "cell_type": "code",
   "execution_count": null,
   "metadata": {},
   "outputs": [],
   "source": [
    "df2"
   ]
  },
  {
   "cell_type": "code",
   "execution_count": null,
   "metadata": {},
   "outputs": [],
   "source": [
    "template_data"
   ]
  },
  {
   "cell_type": "code",
   "execution_count": null,
   "metadata": {},
   "outputs": [],
   "source": [
    "# ---------- Table 2, Details Table\n",
    "\n",
    "# Use the last complete year for this site as the year for the Details\n",
    "# table.  If there was no complete year for the site, then use the\n",
    "# last complete year for the entire dataset.\n",
    "if 'df2' in locals() and len(df2):\n",
    "    last_complete_year = df2.index.max()\n",
    "else:\n",
    "    # Determine month count by year for Electricity in entire dataset\n",
    "    # to determine the latest complete year.\n",
    "    electric_only = df.query(\"service_type == 'electricity'\")\n",
    "    electric_months_present = bu.months_present(electric_only)\n",
    "    electric_mo_count = bu.month_count(electric_months_present)\n",
    "    last_complete_year = max(electric_mo_count[electric_mo_count==12].index)\n",
    "\n",
    "# Filter down to just the records of the targeted fiscal year\n",
    "df1 = df.query('fiscal_year == @last_complete_year')\n",
    "\n",
    "# Get Total Utility cost by building. This includes non-energy utilities as well.\n",
    "df2 = df1.pivot_table(index='site_id', values=['cost'], aggfunc=np.sum)\n",
    "df2.columns = ['total_cost']\n",
    "\n",
    "# Save this into the Final DataFrame that we will build up as we go.\n",
    "df_final = df2.copy()"
   ]
  },
  {
   "cell_type": "code",
   "execution_count": null,
   "metadata": {},
   "outputs": [],
   "source": []
  },
  {
   "cell_type": "code",
   "execution_count": null,
   "metadata": {},
   "outputs": [],
   "source": [
    "df_final.head()"
   ]
  },
  {
   "cell_type": "code",
   "execution_count": null,
   "metadata": {},
   "outputs": [],
   "source": [
    "# Get a list of the Energy Services and restrict the data to\n",
    "# just these services\n",
    "energy_svcs = bu.missing_energy_services([])\n",
    "df2 = df1.query('service_type == @energy_svcs')"
   ]
  },
  {
   "cell_type": "code",
   "execution_count": null,
   "metadata": {},
   "outputs": [],
   "source": [
    "energy_svcs"
   ]
  },
  {
   "cell_type": "code",
   "execution_count": null,
   "metadata": {},
   "outputs": [],
   "source": [
    "df2"
   ]
  },
  {
   "cell_type": "code",
   "execution_count": null,
   "metadata": {},
   "outputs": [],
   "source": [
    "# Summarize Cost by Service Type\n",
    "df3 = pd.pivot_table(df2, index='site_id', columns='service_type', values='cost', aggfunc=np.sum)\n",
    "\n",
    "# Add in any missing columns\n",
    "bu.add_missing_columns(df3, energy_svcs)\n",
    "\n",
    "# Change column names\n",
    "cols = ['{}_cost'.format(col) for col in df3.columns]\n",
    "df3.columns = cols\n",
    "\n",
    "# Add a total energy cost column\n",
    "df3['total_energy_cost'] = df3.sum(axis=1)\n",
    "\n",
    "# Add a total Heat Cost Column\n",
    "df3['total_heat_cost'] = df3.total_energy_cost.fillna(0.0) - df3.electricity_cost.fillna(0.0)\n",
    "\n",
    "# Add this to the final DataFrame\n",
    "df_final = pd.concat([df_final, df3], axis=1, sort=True)\n",
    "\n",
    "# Summarize MMBtu by Service Type\n",
    "df3 = pd.pivot_table(df2, index='site_id', columns='service_type', values='mmbtu', aggfunc=np.sum)\n",
    "\n",
    "# Add in any missing columns\n",
    "bu.add_missing_columns(df3, energy_svcs)\n",
    "\n",
    "# Change column names\n",
    "cols = ['{}_mmbtu'.format(col) for col in df3.columns]\n",
    "df3.columns = cols\n",
    "\n",
    "# Add a total mmbtu column\n",
    "df3['total_mmbtu'] = df3.sum(axis=1)\n",
    "\n",
    "# Add a total Heat mmbtu Column\n",
    "df3['total_heat_mmbtu'] = df3.total_mmbtu.fillna(0.0) - df3.electricity_mmbtu.fillna(0.0)\n",
    "\n",
    "# Add this to the final DataFrame\n",
    "df_final = pd.concat([df_final, df3], axis=1, sort=True)\n",
    "\n",
    "# Electricity kWh summed by building\n",
    "df3 = pd.pivot_table(df2.query('units == \"kWh\"'), index='site_id', values='usage', aggfunc=np.sum)\n",
    "df3.columns = ['electricity_kwh']\n",
    "\n",
    "# Include in Final DF\n",
    "df_final = pd.concat([df_final, df3], axis=1, sort=True)"
   ]
  },
  {
   "cell_type": "code",
   "execution_count": null,
   "metadata": {},
   "outputs": [],
   "source": [
    "df_final.head()"
   ]
  },
  {
   "cell_type": "code",
   "execution_count": null,
   "metadata": {},
   "outputs": [],
   "source": [
    "# Electricity kW, both Average and Max by building\n",
    "# First, sum up kW pieces for each month.\n",
    "df3 = df2.query('units == \"kW\"').groupby(['site_id', 'fiscal_year', 'fiscal_mo']).sum()\n",
    "df3 = pd.pivot_table(df3.reset_index(), index='site_id', values='usage', aggfunc=[np.mean, np.max])\n",
    "df3.columns = ['electricity_kw_average', 'electricity_kw_max']\n",
    "\n",
    "# Add into Final Frame\n",
    "df_final = pd.concat([df_final, df3], axis=1, sort=True)"
   ]
  },
  {
   "cell_type": "code",
   "execution_count": null,
   "metadata": {},
   "outputs": [],
   "source": [
    "# Add in Square footage info\n",
    "df_bldg = ut.building_info_df()[['sq_ft']]\n",
    "\n",
    "# Add into Final Frame.  I do a merge here so as not to bring\n",
    "# in buildings from the building info spreadsheet that are not in this\n",
    "# dataset; this dataset has been restricted to one year.\n",
    "df_final = pd.merge(df_final, df_bldg, how='left', left_index=True, right_index=True)"
   ]
  },
  {
   "cell_type": "code",
   "execution_count": null,
   "metadata": {},
   "outputs": [],
   "source": [
    "df_bldg"
   ]
  },
  {
   "cell_type": "code",
   "execution_count": null,
   "metadata": {},
   "outputs": [],
   "source": [
    "df_final.head()"
   ]
  },
  {
   "cell_type": "code",
   "execution_count": null,
   "metadata": {},
   "outputs": [],
   "source": [
    "# Build a DataFrame that has monthly degree days for each site/year/month\n",
    "# combination.\n",
    "combos = set(zip(df1.site_id, df1.fiscal_year, df1.fiscal_mo))\n",
    "df_dd = pd.DataFrame(data=list(combos), columns=['site_id', 'fiscal_year', 'fiscal_mo'])\n",
    "ut.add_degree_days_col(df_dd)\n",
    "\n",
    "# Add up the degree days by site (we've already filtered down to one year or less\n",
    "# of data.)\n",
    "dd_series = df_dd.groupby('site_id').sum()['degree_days']\n",
    "\n",
    "# Put in final DataFrame\n",
    "df_final = pd.concat([df_final, dd_series], axis=1)\n",
    "\n",
    "# Add in a column that gives the number of months present for each site\n",
    "# in this year.  Then filter down to just the sites that have 12 months\n",
    "# of data.\n",
    "df_final.reset_index(inplace=True)\n",
    "df_final['fiscal_year'] = last_complete_year\n",
    "df_final.set_index(['site_id', 'fiscal_year'], inplace=True)\n",
    "df_final = bu.add_month_count_column_by_site(df_final, df2)\n",
    "df_final = df_final.query('month_count==12').copy()\n",
    "df_final.reset_index(inplace=True)\n",
    "df_final.set_index('site_id', inplace=True)\n",
    "\n",
    "# Calculate per square foot values for each building.\n",
    "df_final['eui'] = df_final.total_mmbtu * 1e3 / df_final.sq_ft\n",
    "df_final['eci'] = df_final.total_energy_cost / df_final.sq_ft\n",
    "df_final['specific_eui'] = df_final.total_heat_mmbtu * 1e6 / df_final.sq_ft / df_final.degree_days"
   ]
  },
  {
   "cell_type": "code",
   "execution_count": null,
   "metadata": {},
   "outputs": [],
   "source": [
    "df_final.head()"
   ]
  },
  {
   "cell_type": "code",
   "execution_count": null,
   "metadata": {},
   "outputs": [],
   "source": [
    "# Save this to a spreadsheet, if it has not already been saved\n",
    "fn = 'output/extra_data/site_summary_FY{}.xlsx'.format(last_complete_year)\n",
    "if not os.path.exists(fn):\n",
    "    with pd.ExcelWriter(fn) as excel_writer:\n",
    "        df_final.to_excel(excel_writer, sheet_name='Sites')\n",
    "\n",
    "# Get the totals across all buildings\n",
    "totals_all_bldgs = df_final.sum()\n",
    "\n",
    "# Total Degree-Days are not relevant\n",
    "totals_all_bldgs.drop(['degree_days'], inplace=True)\n",
    "\n",
    "# Only use the set of buildings that have some energy use and non-zero\n",
    "# square footage to determine EUI's and ECI's\n",
    "energy_bldgs = df_final.query(\"total_mmbtu > 0 and sq_ft > 0\")\n",
    "\n",
    "# Get total square feet, energy use, and energy cost for these buildings\n",
    "# and calculate EUI and ECI\n",
    "sq_ft_energy_bldgs = energy_bldgs.sq_ft.sum()\n",
    "energy_in_energy_bldgs = energy_bldgs.total_mmbtu.sum()\n",
    "energy_cost_in_energy_bldgs = energy_bldgs.total_energy_cost.sum()\n",
    "totals_all_bldgs['eui'] = energy_in_energy_bldgs * 1e3 / sq_ft_energy_bldgs\n",
    "totals_all_bldgs['eci'] = energy_cost_in_energy_bldgs / sq_ft_energy_bldgs\n",
    "\n",
    "# For calculating heating specific EUI, further filter the set of\n",
    "# buildings down to those that have heating fuel use.\n",
    "# Get separate square footage total and weighted average degree-day for these.\n",
    "heat_bldgs = energy_bldgs.query(\"total_heat_mmbtu > 0\")\n",
    "heat_bldgs_sq_ft = heat_bldgs.sq_ft.sum()\n",
    "heat_bldgs_heat_mmbtu = heat_bldgs.total_heat_mmbtu.sum()\n",
    "heat_bldgs_degree_days = (heat_bldgs.total_heat_mmbtu * heat_bldgs.degree_days).sum() / heat_bldgs.total_heat_mmbtu.sum()\n",
    "totals_all_bldgs['specific_eui'] = heat_bldgs_heat_mmbtu * 1e6 / heat_bldgs_sq_ft / heat_bldgs_degree_days\n",
    "\n",
    "# calculate a rank DataFrame\n",
    "df_rank = pd.DataFrame()\n",
    "for col in df_final.columns:\n",
    "    df_rank[col] = df_final[col].rank(ascending=False)\n",
    "\n",
    "if site in df_final.index:\n",
    "    # The site exists in the DataFrame\n",
    "    site_info = df_final.loc[site]\n",
    "    site_pct = site_info / totals_all_bldgs\n",
    "    site_rank = df_rank.loc[site]\n",
    "else:\n",
    "    # Site is not there, probabaly because not present in this year.\n",
    "    # Make variables with NaN values for all elements.\n",
    "    site_info = df_final.iloc[0].copy()   # Just grab the first row to start with\n",
    "    site_info[:] = np.NaN                 # Put\n",
    "    site_pct = site_info.copy()\n",
    "    site_rank = site_info.copy()\n",
    "\n",
    "# Make a final dictioary to hold all the results for this table\n",
    "tbl2_data = {\n",
    "    'fiscal_year': 'FY {}'.format(last_complete_year),\n",
    "    'bldg': site_info.to_dict(),\n",
    "    'all': totals_all_bldgs.to_dict(),\n",
    "    'pct': site_pct.to_dict(),\n",
    "    'rank': site_rank.to_dict()\n",
    "}\n",
    "template_data['energy_index_comparison']['details_table'] = tbl2_data\n",
    "\n",
    "# -------------- Energy Comparison Graphs ---------------\n",
    "\n",
    "# Filter down to only services that are energy services.\n",
    "energy_services = bu.missing_energy_services([])\n",
    "df4 = df.query('service_type==@energy_services').copy()\n",
    "\n",
    "# Sum Energy Costs and Usage\n",
    "df5 = pd.pivot_table(df4, index=['site_id', 'fiscal_year'], values=['cost', 'mmbtu'], aggfunc=np.sum)\n",
    "\n",
    "# Add a column showing number of months present in each fiscal year.\n",
    "df5 = bu.add_month_count_column_by_site(df5, df4)\n",
    "\n",
    "# Create an Electric MMBtu column so it can be subtracted from total to determine\n",
    "# Heat MMBtu.\n",
    "dfe = df4.query(\"service_type=='Electricity'\").groupby(['site_id', 'fiscal_year']).sum()[['mmbtu']]\n",
    "dfe.rename(columns={'mmbtu': 'elec_mmbtu'}, inplace = True)\n",
    "df5 = df5.merge(dfe, how='left', left_index=True, right_index=True)\n",
    "df5['elec_mmbtu'] = df5['elec_mmbtu'].fillna(0.0)\n",
    "df5['heat_mmbtu'] = df5.mmbtu - df5.elec_mmbtu\n",
    "\n",
    "# Add in degree-days:\n",
    "# Create a DataFrame with site, year, month and degree-days, but only one row\n",
    "# for each site/year/month combo.\n",
    "dfd = df4[['site_id', 'fiscal_year', 'fiscal_mo']].copy()\n",
    "dfd.drop_duplicates(inplace=True)\n",
    "ut.add_degree_days_col(dfd)\n",
    "\n",
    "# Use the agg function below so that a NaN will be returned for the year\n",
    "# if any monthly values are NaN\n",
    "dfd = dfd.groupby(['site_id', 'fiscal_year']).agg({'degree_days': lambda x: np.sum(x.values)})[['degree_days']]\n",
    "df5 = df5.merge(dfd, how='left', left_index=True, right_index=True)\n",
    "\n",
    "# Add in some needed building info like square footage, primary function \n",
    "# and building category.\n",
    "df_bldg = ut.building_info_df()\n",
    "\n",
    "# Shrink to just the needed fields and remove index.\n",
    "# Also, fill blank values with 'Unknown'.\n",
    "df_info = df_bldg[['sq_ft', 'site_category', 'primary_func']].copy().reset_index()\n",
    "df_info['site_category'] = df_info.site_category.fillna('Unknown')\n",
    "df_info['primary_func'] = df_info.primary_func.fillna('Unknown Type')\n",
    "\n",
    "# Also Remove the index from df5 and merge in building info\n",
    "df5.reset_index(inplace=True)\n",
    "df5 = df5.merge(df_info, how='left')\n",
    "\n",
    "# Now calculate per square foot energy measures\n",
    "df5['eui'] = df5.mmbtu * 1e3 / df5.sq_ft\n",
    "df5['eci'] = df5.cost / df5.sq_ft\n",
    "df5['specific_eui'] = df5.heat_mmbtu * 1e6 / df5.degree_days / df5.sq_ft\n",
    "\n",
    "# Restrict to full years\n",
    "df5 = df5.query(\"month_count == 12\").copy()\n",
    "\n",
    "# Make all of the comparison graphs\n",
    "g1_fn, g1_url = gu.graph_filename_url(site, 'eci_func')\n",
    "gu.building_type_comparison_graph(df5, 'eci', site, g1_fn)\n",
    "\n",
    "g2_fn, g2_url = gu.graph_filename_url(site, 'eci_owner')\n",
    "gu.building_owner_comparison_graph(df5, 'eci', site, g2_fn)\n",
    "\n",
    "g3_fn, g3_url = gu.graph_filename_url(site, 'eui_func')\n",
    "gu.building_type_comparison_graph(df5, 'eui', site, g3_fn)\n",
    "\n",
    "g4_fn, g4_url = gu.graph_filename_url(site, 'eui_owner')\n",
    "gu.building_owner_comparison_graph(df5, 'eui', site, g4_fn)\n",
    "\n",
    "g5_fn, g5_url = gu.graph_filename_url(site, 'speui_func')\n",
    "gu.building_type_comparison_graph(df5, 'specific_eui', site, g5_fn)\n",
    "\n",
    "g6_fn, g6_url = gu.graph_filename_url(site, 'speui_owner')\n",
    "gu.building_owner_comparison_graph(df5, 'specific_eui', site, g6_fn)\n",
    "\n",
    "template_data['energy_index_comparison']['graphs'] = [\n",
    "    g1_url, g2_url, g3_url, g4_url, g5_url, g6_url\n",
    "]\n",
    "\n",
    "# return template_data"
   ]
  },
  {
   "cell_type": "code",
   "execution_count": null,
   "metadata": {},
   "outputs": [],
   "source": []
  },
  {
   "cell_type": "code",
   "execution_count": null,
   "metadata": {},
   "outputs": [],
   "source": []
  }
 ],
 "metadata": {
  "kernelspec": {
   "display_name": "Python 3",
   "language": "python",
   "name": "python3"
  },
  "language_info": {
   "codemirror_mode": {
    "name": "ipython",
    "version": 3
   },
   "file_extension": ".py",
   "mimetype": "text/x-python",
   "name": "python",
   "nbconvert_exporter": "python",
   "pygments_lexer": "ipython3",
   "version": "3.7.1"
  }
 },
 "nbformat": 4,
 "nbformat_minor": 2
}
