{
 "cells": [
  {
   "cell_type": "markdown",
   "metadata": {},
   "source": [
    "# Processing of ARIS data for Benchmarking Script"
   ]
  },
  {
   "cell_type": "markdown",
   "metadata": {},
   "source": [
    "Looking at the Fairbanks script, these are the fields that are necessary to do the benchmarking:\n",
    "\n",
    "'Site ID':  This was a 4 letter code identifying the particular facility.  It doesn't have to be a 4-letter code for ARIS, just some unique ID.  \n",
    "'From':  The start date of the billing period.  Any date format works.  \n",
    "'Thru':  The end date of the billing period.  This could be multiple months after the start date in the case of oil or propane.  \n",
    "'Service Name': This was ['Oil #1', 'Oil #2', 'Electricity', 'Steam', 'Natural Gas', 'Water', 'Sewer', 'Refuse'] for FNSB.  \n",
    "'Item Description':  This was the description of the particular line item on the bill, like \"Customer Charge\", \"Cost Adjustments\", \"Demand Charge\" plus a very wide variety of other types of charges.  In the script, I combined all the miscellaneous charges into \"Other Charge\".  These were billing line items that had no Usage associated with them.  \n",
    "'Usage': For usage-based charges, like kWh, kW, gallons, etc, this contains the usage.  For \"Other Charges\" (fixed charges), this is blank.  \n",
    "'Cost': $ cost of the line item.  \n",
    "'Units': For Usage based charges, the units.  These are what was in the Fairbanks data:  'Gallons', 'kWh', 'klbs', 'lbs', 'MMBtu', 'kVAR', 'kW', 'CCF', 'kVARh', 'Loads', 'Cgallons', 'kGal', 'Tons'.    \n",
    "\n",
    "So if we can get the ARIS data into this format, and if we could keep Service Name, Units, and some of the Item Descriptions the same, the script should run.  As far as Item descriptions that need to stay the same, I think it is just peak Electric Demand that  needs to be labeled like Fairbanks.  It can be any one of the following:  'KW Charge', 'On peak demand', 'Demand Charge'\n"
   ]
  },
  {
   "cell_type": "markdown",
   "metadata": {},
   "source": [
    "## To Do\n",
    "\n",
    "* Standardize values in each field to match FNSB values\n",
    "* Think more about how long of a billing period is too long.\n",
    "* Should check the Meter Read Date Field instead of always assuming the 15th.\n",
    "* Split `Other_Building_Data.xlsx` into separate Building Excel file and Fuel Types Excel file.\n",
    "* Auto-generate the Building Excel file from the API data.  Map \"Building Usage Name\" to \"Primary Function\", and \"Building Owner Name\" to \"Site Category\".\n",
    "    * Map each City to a Degree-Day site.\n",
    "* Add a section to the Settings File to accomodate ARIS passwords/URL and other ARIS specific settings.\n",
    "* Incorporate new graphs into the `benchmark.py` script, including creation of new Template."
   ]
  },
  {
   "cell_type": "code",
   "execution_count": 2,
   "metadata": {
    "collapsed": true
   },
   "outputs": [],
   "source": [
    "import pandas as pd\n",
    "import numpy as np\n",
    "from datetime import timedelta\n",
    "\n",
    "###################### Matplotlib #######################\n",
    "# import matplotlib pyplot commands\n",
    "from matplotlib.pyplot import *\n",
    " \n",
    "# Show Plots in the Notebook\n",
    "%matplotlib inline\n",
    " \n",
    "# 'style' the plot like fivethirtyeight.com website\n",
    "style.use('bmh')"
   ]
  },
  {
   "cell_type": "code",
   "execution_count": 102,
   "metadata": {
    "collapsed": true
   },
   "outputs": [],
   "source": [
    "rcParams['figure.figsize']= (10, 8)   # set Chart Size\n",
    "rcParams['font.size'] = 14            # set Font size in Chart"
   ]
  },
  {
   "cell_type": "code",
   "execution_count": 103,
   "metadata": {
    "collapsed": false
   },
   "outputs": [
    {
     "data": {
      "text/html": [
       "<div>\n",
       "<style scoped>\n",
       "    .dataframe tbody tr th:only-of-type {\n",
       "        vertical-align: middle;\n",
       "    }\n",
       "\n",
       "    .dataframe tbody tr th {\n",
       "        vertical-align: top;\n",
       "    }\n",
       "\n",
       "    .dataframe thead th {\n",
       "        text-align: right;\n",
       "    }\n",
       "</style>\n",
       "<table border=\"1\" class=\"dataframe\">\n",
       "  <thead>\n",
       "    <tr style=\"text-align: right;\">\n",
       "      <th></th>\n",
       "      <th>Unnamed: 0</th>\n",
       "      <th>BuildingId</th>\n",
       "      <th>EnergyTypeId</th>\n",
       "      <th>EnergyUnitId</th>\n",
       "      <th>EnergyUnitTypeName</th>\n",
       "      <th>EnergyTypeName</th>\n",
       "      <th>UsageDate</th>\n",
       "      <th>EnergyQuantity</th>\n",
       "      <th>DollarCost</th>\n",
       "      <th>DemandUse</th>\n",
       "      <th>DemandCost</th>\n",
       "      <th>UsageYear</th>\n",
       "      <th>MeterReadDate</th>\n",
       "    </tr>\n",
       "  </thead>\n",
       "  <tbody>\n",
       "    <tr>\n",
       "      <th>0</th>\n",
       "      <td>0</td>\n",
       "      <td>44</td>\n",
       "      <td>1</td>\n",
       "      <td>1</td>\n",
       "      <td>kWh</td>\n",
       "      <td>Electric</td>\n",
       "      <td>2009-01-01</td>\n",
       "      <td>412.0</td>\n",
       "      <td>81.0</td>\n",
       "      <td>NaN</td>\n",
       "      <td>NaN</td>\n",
       "      <td>2009</td>\n",
       "      <td>NaN</td>\n",
       "    </tr>\n",
       "    <tr>\n",
       "      <th>1</th>\n",
       "      <td>1</td>\n",
       "      <td>44</td>\n",
       "      <td>1</td>\n",
       "      <td>1</td>\n",
       "      <td>kWh</td>\n",
       "      <td>Electric</td>\n",
       "      <td>2009-02-01</td>\n",
       "      <td>538.0</td>\n",
       "      <td>99.0</td>\n",
       "      <td>NaN</td>\n",
       "      <td>NaN</td>\n",
       "      <td>2009</td>\n",
       "      <td>NaN</td>\n",
       "    </tr>\n",
       "    <tr>\n",
       "      <th>2</th>\n",
       "      <td>2</td>\n",
       "      <td>44</td>\n",
       "      <td>1</td>\n",
       "      <td>1</td>\n",
       "      <td>kWh</td>\n",
       "      <td>Electric</td>\n",
       "      <td>2009-03-01</td>\n",
       "      <td>432.0</td>\n",
       "      <td>81.0</td>\n",
       "      <td>NaN</td>\n",
       "      <td>NaN</td>\n",
       "      <td>2009</td>\n",
       "      <td>NaN</td>\n",
       "    </tr>\n",
       "    <tr>\n",
       "      <th>3</th>\n",
       "      <td>3</td>\n",
       "      <td>44</td>\n",
       "      <td>1</td>\n",
       "      <td>1</td>\n",
       "      <td>kWh</td>\n",
       "      <td>Electric</td>\n",
       "      <td>2009-04-01</td>\n",
       "      <td>406.0</td>\n",
       "      <td>78.0</td>\n",
       "      <td>NaN</td>\n",
       "      <td>NaN</td>\n",
       "      <td>2009</td>\n",
       "      <td>NaN</td>\n",
       "    </tr>\n",
       "    <tr>\n",
       "      <th>4</th>\n",
       "      <td>4</td>\n",
       "      <td>44</td>\n",
       "      <td>1</td>\n",
       "      <td>1</td>\n",
       "      <td>kWh</td>\n",
       "      <td>Electric</td>\n",
       "      <td>2009-05-01</td>\n",
       "      <td>771.0</td>\n",
       "      <td>116.0</td>\n",
       "      <td>NaN</td>\n",
       "      <td>NaN</td>\n",
       "      <td>2009</td>\n",
       "      <td>NaN</td>\n",
       "    </tr>\n",
       "  </tbody>\n",
       "</table>\n",
       "</div>"
      ],
      "text/plain": [
       "   Unnamed: 0  BuildingId  EnergyTypeId  EnergyUnitId EnergyUnitTypeName  \\\n",
       "0           0          44             1             1                kWh   \n",
       "1           1          44             1             1                kWh   \n",
       "2           2          44             1             1                kWh   \n",
       "3           3          44             1             1                kWh   \n",
       "4           4          44             1             1                kWh   \n",
       "\n",
       "  EnergyTypeName  UsageDate  EnergyQuantity  DollarCost  DemandUse  \\\n",
       "0       Electric 2009-01-01           412.0        81.0        NaN   \n",
       "1       Electric 2009-02-01           538.0        99.0        NaN   \n",
       "2       Electric 2009-03-01           432.0        81.0        NaN   \n",
       "3       Electric 2009-04-01           406.0        78.0        NaN   \n",
       "4       Electric 2009-05-01           771.0       116.0        NaN   \n",
       "\n",
       "   DemandCost  UsageYear MeterReadDate  \n",
       "0         NaN       2009           NaN  \n",
       "1         NaN       2009           NaN  \n",
       "2         NaN       2009           NaN  \n",
       "3         NaN       2009           NaN  \n",
       "4         NaN       2009           NaN  "
      ]
     },
     "execution_count": 103,
     "metadata": {},
     "output_type": "execute_result"
    }
   ],
   "source": [
    "df = pd.read_csv(\"aris_benchmark_data_from_api.csv\", parse_dates=['UsageDate'])\n",
    "df.head()"
   ]
  },
  {
   "cell_type": "code",
   "execution_count": 104,
   "metadata": {
    "collapsed": false
   },
   "outputs": [
    {
     "data": {
      "text/html": [
       "<div>\n",
       "<style scoped>\n",
       "    .dataframe tbody tr th:only-of-type {\n",
       "        vertical-align: middle;\n",
       "    }\n",
       "\n",
       "    .dataframe tbody tr th {\n",
       "        vertical-align: top;\n",
       "    }\n",
       "\n",
       "    .dataframe thead th {\n",
       "        text-align: right;\n",
       "    }\n",
       "</style>\n",
       "<table border=\"1\" class=\"dataframe\">\n",
       "  <thead>\n",
       "    <tr style=\"text-align: right;\">\n",
       "      <th></th>\n",
       "      <th>BuildingId</th>\n",
       "      <th>EnergyUnitTypeName</th>\n",
       "      <th>EnergyTypeName</th>\n",
       "      <th>UsageDate</th>\n",
       "      <th>EnergyQuantity</th>\n",
       "      <th>DollarCost</th>\n",
       "      <th>DemandUse</th>\n",
       "      <th>DemandCost</th>\n",
       "    </tr>\n",
       "  </thead>\n",
       "  <tbody>\n",
       "    <tr>\n",
       "      <th>0</th>\n",
       "      <td>44</td>\n",
       "      <td>kWh</td>\n",
       "      <td>Electric</td>\n",
       "      <td>2009-01-01</td>\n",
       "      <td>412.0</td>\n",
       "      <td>81.0</td>\n",
       "      <td>NaN</td>\n",
       "      <td>NaN</td>\n",
       "    </tr>\n",
       "    <tr>\n",
       "      <th>1</th>\n",
       "      <td>44</td>\n",
       "      <td>kWh</td>\n",
       "      <td>Electric</td>\n",
       "      <td>2009-02-01</td>\n",
       "      <td>538.0</td>\n",
       "      <td>99.0</td>\n",
       "      <td>NaN</td>\n",
       "      <td>NaN</td>\n",
       "    </tr>\n",
       "    <tr>\n",
       "      <th>2</th>\n",
       "      <td>44</td>\n",
       "      <td>kWh</td>\n",
       "      <td>Electric</td>\n",
       "      <td>2009-03-01</td>\n",
       "      <td>432.0</td>\n",
       "      <td>81.0</td>\n",
       "      <td>NaN</td>\n",
       "      <td>NaN</td>\n",
       "    </tr>\n",
       "    <tr>\n",
       "      <th>3</th>\n",
       "      <td>44</td>\n",
       "      <td>kWh</td>\n",
       "      <td>Electric</td>\n",
       "      <td>2009-04-01</td>\n",
       "      <td>406.0</td>\n",
       "      <td>78.0</td>\n",
       "      <td>NaN</td>\n",
       "      <td>NaN</td>\n",
       "    </tr>\n",
       "    <tr>\n",
       "      <th>4</th>\n",
       "      <td>44</td>\n",
       "      <td>kWh</td>\n",
       "      <td>Electric</td>\n",
       "      <td>2009-05-01</td>\n",
       "      <td>771.0</td>\n",
       "      <td>116.0</td>\n",
       "      <td>NaN</td>\n",
       "      <td>NaN</td>\n",
       "    </tr>\n",
       "  </tbody>\n",
       "</table>\n",
       "</div>"
      ],
      "text/plain": [
       "   BuildingId EnergyUnitTypeName EnergyTypeName  UsageDate  EnergyQuantity  \\\n",
       "0          44                kWh       Electric 2009-01-01           412.0   \n",
       "1          44                kWh       Electric 2009-02-01           538.0   \n",
       "2          44                kWh       Electric 2009-03-01           432.0   \n",
       "3          44                kWh       Electric 2009-04-01           406.0   \n",
       "4          44                kWh       Electric 2009-05-01           771.0   \n",
       "\n",
       "   DollarCost  DemandUse  DemandCost  \n",
       "0        81.0        NaN         NaN  \n",
       "1        99.0        NaN         NaN  \n",
       "2        81.0        NaN         NaN  \n",
       "3        78.0        NaN         NaN  \n",
       "4       116.0        NaN         NaN  "
      ]
     },
     "execution_count": 104,
     "metadata": {},
     "output_type": "execute_result"
    }
   ],
   "source": [
    "# Get rid of unneeded columns\n",
    "df.drop(columns=['Unnamed: 0', 'EnergyTypeId', 'EnergyUnitId', 'UsageYear', 'MeterReadDate'], inplace=True)\n",
    "df.head()"
   ]
  },
  {
   "cell_type": "code",
   "execution_count": 105,
   "metadata": {
    "collapsed": true
   },
   "outputs": [],
   "source": [
    "# A function that adds a DataFrame to the final DataFrame and renames\n",
    "# columns to those needed by the Benchmarking script.\n",
    "df_final = pd.DataFrame()\n",
    "\n",
    "# The dictionary that renames the columns to names needed \n",
    "# by the benchmarking script\n",
    "col_map = {\n",
    "    'BuildingId': 'Site ID',\n",
    "    'EnergyTypeName': 'Service Name',\n",
    "    'EnergyUnitTypeName': 'Units',\n",
    "    'EnergyQuantity': 'Usage',\n",
    "    'DollarCost': 'Cost',\n",
    "}\n",
    "def add_to_final(df_to_add):\n",
    "    global df_final\n",
    "    df_add = df_to_add.copy()\n",
    "    df_add.rename(columns=col_map, inplace=True)\n",
    "    df_add.drop(columns=['DemandUse', 'DemandCost', 'UsageDate'], inplace=True)\n",
    "    df_final = df_final.append(df_add, ignore_index=True)\n",
    "    "
   ]
  },
  {
   "cell_type": "code",
   "execution_count": 106,
   "metadata": {
    "collapsed": false
   },
   "outputs": [
    {
     "data": {
      "text/html": [
       "<div>\n",
       "<style scoped>\n",
       "    .dataframe tbody tr th:only-of-type {\n",
       "        vertical-align: middle;\n",
       "    }\n",
       "\n",
       "    .dataframe tbody tr th {\n",
       "        vertical-align: top;\n",
       "    }\n",
       "\n",
       "    .dataframe thead th {\n",
       "        text-align: right;\n",
       "    }\n",
       "</style>\n",
       "<table border=\"1\" class=\"dataframe\">\n",
       "  <thead>\n",
       "    <tr style=\"text-align: right;\">\n",
       "      <th></th>\n",
       "      <th>BuildingId</th>\n",
       "      <th>EnergyUnitTypeName</th>\n",
       "      <th>EnergyTypeName</th>\n",
       "      <th>UsageDate</th>\n",
       "      <th>EnergyQuantity</th>\n",
       "      <th>DollarCost</th>\n",
       "      <th>DemandUse</th>\n",
       "      <th>DemandCost</th>\n",
       "      <th>Thru</th>\n",
       "    </tr>\n",
       "  </thead>\n",
       "  <tbody>\n",
       "    <tr>\n",
       "      <th>0</th>\n",
       "      <td>44</td>\n",
       "      <td>kWh</td>\n",
       "      <td>Electric</td>\n",
       "      <td>2009-01-01</td>\n",
       "      <td>412.0</td>\n",
       "      <td>81.0</td>\n",
       "      <td>NaN</td>\n",
       "      <td>NaN</td>\n",
       "      <td>2009-01-15</td>\n",
       "    </tr>\n",
       "    <tr>\n",
       "      <th>1</th>\n",
       "      <td>44</td>\n",
       "      <td>kWh</td>\n",
       "      <td>Electric</td>\n",
       "      <td>2009-02-01</td>\n",
       "      <td>538.0</td>\n",
       "      <td>99.0</td>\n",
       "      <td>NaN</td>\n",
       "      <td>NaN</td>\n",
       "      <td>2009-02-15</td>\n",
       "    </tr>\n",
       "    <tr>\n",
       "      <th>2</th>\n",
       "      <td>44</td>\n",
       "      <td>kWh</td>\n",
       "      <td>Electric</td>\n",
       "      <td>2009-03-01</td>\n",
       "      <td>432.0</td>\n",
       "      <td>81.0</td>\n",
       "      <td>NaN</td>\n",
       "      <td>NaN</td>\n",
       "      <td>2009-03-15</td>\n",
       "    </tr>\n",
       "    <tr>\n",
       "      <th>3</th>\n",
       "      <td>44</td>\n",
       "      <td>kWh</td>\n",
       "      <td>Electric</td>\n",
       "      <td>2009-04-01</td>\n",
       "      <td>406.0</td>\n",
       "      <td>78.0</td>\n",
       "      <td>NaN</td>\n",
       "      <td>NaN</td>\n",
       "      <td>2009-04-15</td>\n",
       "    </tr>\n",
       "    <tr>\n",
       "      <th>4</th>\n",
       "      <td>44</td>\n",
       "      <td>kWh</td>\n",
       "      <td>Electric</td>\n",
       "      <td>2009-05-01</td>\n",
       "      <td>771.0</td>\n",
       "      <td>116.0</td>\n",
       "      <td>NaN</td>\n",
       "      <td>NaN</td>\n",
       "      <td>2009-05-15</td>\n",
       "    </tr>\n",
       "  </tbody>\n",
       "</table>\n",
       "</div>"
      ],
      "text/plain": [
       "   BuildingId EnergyUnitTypeName EnergyTypeName  UsageDate  EnergyQuantity  \\\n",
       "0          44                kWh       Electric 2009-01-01           412.0   \n",
       "1          44                kWh       Electric 2009-02-01           538.0   \n",
       "2          44                kWh       Electric 2009-03-01           432.0   \n",
       "3          44                kWh       Electric 2009-04-01           406.0   \n",
       "4          44                kWh       Electric 2009-05-01           771.0   \n",
       "\n",
       "   DollarCost  DemandUse  DemandCost       Thru  \n",
       "0        81.0        NaN         NaN 2009-01-15  \n",
       "1        99.0        NaN         NaN 2009-02-15  \n",
       "2        81.0        NaN         NaN 2009-03-15  \n",
       "3        78.0        NaN         NaN 2009-04-15  \n",
       "4       116.0        NaN         NaN 2009-05-15  "
      ]
     },
     "execution_count": 106,
     "metadata": {},
     "output_type": "execute_result"
    }
   ],
   "source": [
    "# Assume that the end of the billing period occurred in the middle of the \n",
    "# month where the usage was listed.\n",
    "df['Thru'] = [d.replace(day=15) for d in df.UsageDate]\n",
    "df.head()"
   ]
  },
  {
   "cell_type": "code",
   "execution_count": 107,
   "metadata": {
    "collapsed": false
   },
   "outputs": [
    {
     "data": {
      "text/plain": [
       "Electric               36813\n",
       "#1 Fuel Oil            14547\n",
       "Natural Gas            10815\n",
       "Propane                 1560\n",
       "#2 Fuel Oil             1553\n",
       "Steam District Ht       1542\n",
       "Hot Wtr District Ht      657\n",
       "Coal                     168\n",
       "Spruce Wood              120\n",
       "Demand - Electric         12\n",
       "Name: EnergyTypeName, dtype: int64"
      ]
     },
     "execution_count": 107,
     "metadata": {},
     "output_type": "execute_result"
    }
   ],
   "source": [
    "df.EnergyTypeName.value_counts()"
   ]
  },
  {
   "cell_type": "code",
   "execution_count": 108,
   "metadata": {
    "collapsed": false
   },
   "outputs": [
    {
     "data": {
      "text/html": [
       "<div>\n",
       "<style scoped>\n",
       "    .dataframe tbody tr th:only-of-type {\n",
       "        vertical-align: middle;\n",
       "    }\n",
       "\n",
       "    .dataframe tbody tr th {\n",
       "        vertical-align: top;\n",
       "    }\n",
       "\n",
       "    .dataframe thead th {\n",
       "        text-align: right;\n",
       "    }\n",
       "</style>\n",
       "<table border=\"1\" class=\"dataframe\">\n",
       "  <thead>\n",
       "    <tr style=\"text-align: right;\">\n",
       "      <th></th>\n",
       "      <th>BuildingId</th>\n",
       "      <th>EnergyUnitTypeName</th>\n",
       "      <th>EnergyTypeName</th>\n",
       "      <th>UsageDate</th>\n",
       "      <th>EnergyQuantity</th>\n",
       "      <th>DollarCost</th>\n",
       "      <th>DemandUse</th>\n",
       "      <th>DemandCost</th>\n",
       "      <th>Thru</th>\n",
       "    </tr>\n",
       "  </thead>\n",
       "  <tbody>\n",
       "    <tr>\n",
       "      <th>45174</th>\n",
       "      <td>13650</td>\n",
       "      <td>kWh</td>\n",
       "      <td>Demand - Electric</td>\n",
       "      <td>2016-07-01</td>\n",
       "      <td>0.0</td>\n",
       "      <td>0.00</td>\n",
       "      <td>0.0</td>\n",
       "      <td>0.0</td>\n",
       "      <td>2016-07-15</td>\n",
       "    </tr>\n",
       "    <tr>\n",
       "      <th>45175</th>\n",
       "      <td>13650</td>\n",
       "      <td>kWh</td>\n",
       "      <td>Demand - Electric</td>\n",
       "      <td>2016-08-01</td>\n",
       "      <td>0.0</td>\n",
       "      <td>0.00</td>\n",
       "      <td>0.0</td>\n",
       "      <td>0.0</td>\n",
       "      <td>2016-08-15</td>\n",
       "    </tr>\n",
       "    <tr>\n",
       "      <th>45176</th>\n",
       "      <td>13650</td>\n",
       "      <td>kWh</td>\n",
       "      <td>Demand - Electric</td>\n",
       "      <td>2016-09-01</td>\n",
       "      <td>0.0</td>\n",
       "      <td>0.00</td>\n",
       "      <td>0.0</td>\n",
       "      <td>0.0</td>\n",
       "      <td>2016-09-15</td>\n",
       "    </tr>\n",
       "    <tr>\n",
       "      <th>45177</th>\n",
       "      <td>13650</td>\n",
       "      <td>kWh</td>\n",
       "      <td>Demand - Electric</td>\n",
       "      <td>2016-10-01</td>\n",
       "      <td>0.0</td>\n",
       "      <td>0.00</td>\n",
       "      <td>0.0</td>\n",
       "      <td>0.0</td>\n",
       "      <td>2016-10-15</td>\n",
       "    </tr>\n",
       "    <tr>\n",
       "      <th>45178</th>\n",
       "      <td>13650</td>\n",
       "      <td>kWh</td>\n",
       "      <td>Demand - Electric</td>\n",
       "      <td>2016-11-01</td>\n",
       "      <td>0.0</td>\n",
       "      <td>0.00</td>\n",
       "      <td>0.0</td>\n",
       "      <td>0.0</td>\n",
       "      <td>2016-11-15</td>\n",
       "    </tr>\n",
       "    <tr>\n",
       "      <th>45179</th>\n",
       "      <td>13650</td>\n",
       "      <td>kWh</td>\n",
       "      <td>Demand - Electric</td>\n",
       "      <td>2016-12-01</td>\n",
       "      <td>0.0</td>\n",
       "      <td>0.00</td>\n",
       "      <td>0.0</td>\n",
       "      <td>0.0</td>\n",
       "      <td>2016-12-15</td>\n",
       "    </tr>\n",
       "    <tr>\n",
       "      <th>45180</th>\n",
       "      <td>13650</td>\n",
       "      <td>kWh</td>\n",
       "      <td>Demand - Electric</td>\n",
       "      <td>2016-01-01</td>\n",
       "      <td>39039.0</td>\n",
       "      <td>440.79</td>\n",
       "      <td>0.0</td>\n",
       "      <td>0.0</td>\n",
       "      <td>2016-01-15</td>\n",
       "    </tr>\n",
       "    <tr>\n",
       "      <th>45181</th>\n",
       "      <td>13650</td>\n",
       "      <td>kWh</td>\n",
       "      <td>Demand - Electric</td>\n",
       "      <td>2016-02-01</td>\n",
       "      <td>0.0</td>\n",
       "      <td>0.00</td>\n",
       "      <td>0.0</td>\n",
       "      <td>0.0</td>\n",
       "      <td>2016-02-15</td>\n",
       "    </tr>\n",
       "    <tr>\n",
       "      <th>45182</th>\n",
       "      <td>13650</td>\n",
       "      <td>kWh</td>\n",
       "      <td>Demand - Electric</td>\n",
       "      <td>2016-03-01</td>\n",
       "      <td>0.0</td>\n",
       "      <td>0.00</td>\n",
       "      <td>0.0</td>\n",
       "      <td>0.0</td>\n",
       "      <td>2016-03-15</td>\n",
       "    </tr>\n",
       "    <tr>\n",
       "      <th>45183</th>\n",
       "      <td>13650</td>\n",
       "      <td>kWh</td>\n",
       "      <td>Demand - Electric</td>\n",
       "      <td>2016-04-01</td>\n",
       "      <td>0.0</td>\n",
       "      <td>0.00</td>\n",
       "      <td>0.0</td>\n",
       "      <td>0.0</td>\n",
       "      <td>2016-04-15</td>\n",
       "    </tr>\n",
       "    <tr>\n",
       "      <th>45184</th>\n",
       "      <td>13650</td>\n",
       "      <td>kWh</td>\n",
       "      <td>Demand - Electric</td>\n",
       "      <td>2016-05-01</td>\n",
       "      <td>0.0</td>\n",
       "      <td>0.00</td>\n",
       "      <td>0.0</td>\n",
       "      <td>0.0</td>\n",
       "      <td>2016-05-15</td>\n",
       "    </tr>\n",
       "    <tr>\n",
       "      <th>45185</th>\n",
       "      <td>13650</td>\n",
       "      <td>kWh</td>\n",
       "      <td>Demand - Electric</td>\n",
       "      <td>2016-06-01</td>\n",
       "      <td>0.0</td>\n",
       "      <td>0.00</td>\n",
       "      <td>0.0</td>\n",
       "      <td>0.0</td>\n",
       "      <td>2016-06-15</td>\n",
       "    </tr>\n",
       "  </tbody>\n",
       "</table>\n",
       "</div>"
      ],
      "text/plain": [
       "       BuildingId EnergyUnitTypeName     EnergyTypeName  UsageDate  \\\n",
       "45174       13650                kWh  Demand - Electric 2016-07-01   \n",
       "45175       13650                kWh  Demand - Electric 2016-08-01   \n",
       "45176       13650                kWh  Demand - Electric 2016-09-01   \n",
       "45177       13650                kWh  Demand - Electric 2016-10-01   \n",
       "45178       13650                kWh  Demand - Electric 2016-11-01   \n",
       "45179       13650                kWh  Demand - Electric 2016-12-01   \n",
       "45180       13650                kWh  Demand - Electric 2016-01-01   \n",
       "45181       13650                kWh  Demand - Electric 2016-02-01   \n",
       "45182       13650                kWh  Demand - Electric 2016-03-01   \n",
       "45183       13650                kWh  Demand - Electric 2016-04-01   \n",
       "45184       13650                kWh  Demand - Electric 2016-05-01   \n",
       "45185       13650                kWh  Demand - Electric 2016-06-01   \n",
       "\n",
       "       EnergyQuantity  DollarCost  DemandUse  DemandCost       Thru  \n",
       "45174             0.0        0.00        0.0         0.0 2016-07-15  \n",
       "45175             0.0        0.00        0.0         0.0 2016-08-15  \n",
       "45176             0.0        0.00        0.0         0.0 2016-09-15  \n",
       "45177             0.0        0.00        0.0         0.0 2016-10-15  \n",
       "45178             0.0        0.00        0.0         0.0 2016-11-15  \n",
       "45179             0.0        0.00        0.0         0.0 2016-12-15  \n",
       "45180         39039.0      440.79        0.0         0.0 2016-01-15  \n",
       "45181             0.0        0.00        0.0         0.0 2016-02-15  \n",
       "45182             0.0        0.00        0.0         0.0 2016-03-15  \n",
       "45183             0.0        0.00        0.0         0.0 2016-04-15  \n",
       "45184             0.0        0.00        0.0         0.0 2016-05-15  \n",
       "45185             0.0        0.00        0.0         0.0 2016-06-15  "
      ]
     },
     "execution_count": 108,
     "metadata": {},
     "output_type": "execute_result"
    }
   ],
   "source": [
    "df.query('EnergyTypeName==\"Demand - Electric\"')"
   ]
  },
  {
   "cell_type": "code",
   "execution_count": 109,
   "metadata": {
    "collapsed": false
   },
   "outputs": [
    {
     "data": {
      "text/plain": [
       "Electric               36825\n",
       "#1 Fuel Oil            14547\n",
       "Natural Gas            10815\n",
       "Propane                 1560\n",
       "#2 Fuel Oil             1553\n",
       "Steam District Ht       1542\n",
       "Hot Wtr District Ht      657\n",
       "Coal                     168\n",
       "Spruce Wood              120\n",
       "Name: EnergyTypeName, dtype: int64"
      ]
     },
     "execution_count": 109,
     "metadata": {},
     "output_type": "execute_result"
    }
   ],
   "source": [
    "# Change these to 'Electric'\n",
    "df.loc[df.EnergyTypeName == 'Demand - Electric', 'EnergyTypeName'] = 'Electric'\n",
    "df.EnergyTypeName.value_counts()"
   ]
  },
  {
   "cell_type": "code",
   "execution_count": 110,
   "metadata": {
    "collapsed": true
   },
   "outputs": [],
   "source": [
    "# Do Fuel types that are normally billed on a monthly basis\n",
    "mo_fuels = ['Electric', 'Natural Gas', 'Steam District Ht', 'Hot Wtr District Ht']\n",
    "df_mo = df.query('EnergyTypeName==@mo_fuels').copy()\n",
    "\n",
    "# Assume start date of billing period was one month prior to end date\n",
    "df_mo['From'] = df_mo['Thru'] - timedelta(days=30)   # approximate\n",
    "# now replace with exactly the 15th\n",
    "df_mo['From'] = [d.replace(day=15) for d in df_mo.From]\n",
    "df_mo['Item Description'] = 'Energy'   # not critical, except for electric demand\n",
    "\n",
    "# Add to final DataFrame\n",
    "add_to_final(df_mo)\n",
    "\n",
    "# Now add the Electric Demand Charge records\n",
    "df_demand = df_mo.query('DemandCost > 0 and EnergyTypeName==\"Electric\"').copy()\n",
    "df_demand['EnergyQuantity'] = df_demand.DemandUse\n",
    "df_demand['DollarCost'] =  df_demand.DemandCost\n",
    "df_demand['EnergyUnitTypeName'] = 'kW'\n",
    "df_demand['Item Description'] = 'Demand Charge'\n",
    "# add this to the final DataFrame\n",
    "add_to_final(df_demand)"
   ]
  },
  {
   "cell_type": "code",
   "execution_count": 111,
   "metadata": {
    "collapsed": false
   },
   "outputs": [
    {
     "data": {
      "text/plain": [
       "kWh                36825\n",
       "CCF                10815\n",
       "kW                  7582\n",
       "thousand pounds     1542\n",
       "Btu                  657\n",
       "Name: Units, dtype: int64"
      ]
     },
     "execution_count": 111,
     "metadata": {},
     "output_type": "execute_result"
    }
   ],
   "source": [
    "df_final['Units'].value_counts()"
   ]
  },
  {
   "cell_type": "code",
   "execution_count": 112,
   "metadata": {
    "collapsed": false
   },
   "outputs": [
    {
     "data": {
      "text/plain": [
       "Electric               44407\n",
       "Natural Gas            10815\n",
       "Steam District Ht       1542\n",
       "Hot Wtr District Ht      657\n",
       "Name: Service Name, dtype: int64"
      ]
     },
     "execution_count": 112,
     "metadata": {},
     "output_type": "execute_result"
    }
   ],
   "source": [
    "df_final['Service Name'].value_counts()"
   ]
  },
  {
   "cell_type": "code",
   "execution_count": 113,
   "metadata": {
    "collapsed": false
   },
   "outputs": [
    {
     "data": {
      "text/plain": [
       "#1 Fuel Oil    14547\n",
       "Propane         1560\n",
       "#2 Fuel Oil     1553\n",
       "Coal             168\n",
       "Spruce Wood      120\n",
       "Name: EnergyTypeName, dtype: int64"
      ]
     },
     "execution_count": 113,
     "metadata": {},
     "output_type": "execute_result"
    }
   ],
   "source": [
    "# Do all the other fuel types that are sporadically delivered. \n",
    "# Assume the start of the billing period is the 15th of the month \n",
    "# containing the prior bill.\n",
    "df_other = df.query('EnergyTypeName!=@mo_fuels').copy()\n",
    "df_other.EnergyTypeName.value_counts()"
   ]
  },
  {
   "cell_type": "code",
   "execution_count": 114,
   "metadata": {
    "collapsed": true
   },
   "outputs": [],
   "source": [
    "# Separate into a group of records for each Building ID / Fuel Type\n",
    "# combo.  Determine the starting date of the billing period by \n",
    "# bringing forward the date from the prior bill.\n",
    "for gp, recs in df_other.groupby(['BuildingId', 'EnergyTypeName']):\n",
    "    recs = recs.query('DollarCost > 0').copy()\n",
    "    recs.sort_values(['Thru'], inplace=True)\n",
    "    # Start date comes from prior record\n",
    "    recs['From'] = recs.Thru.shift(1)\n",
    "    # Drop the first record, cuz no start date for that one\n",
    "    recs = recs[1:]\n",
    "    recs['Item Description'] =  'Energy'\n",
    "    add_to_final(recs)"
   ]
  },
  {
   "cell_type": "code",
   "execution_count": 115,
   "metadata": {
    "collapsed": false
   },
   "outputs": [
    {
     "data": {
      "text/html": [
       "<div>\n",
       "<style scoped>\n",
       "    .dataframe tbody tr th:only-of-type {\n",
       "        vertical-align: middle;\n",
       "    }\n",
       "\n",
       "    .dataframe tbody tr th {\n",
       "        vertical-align: top;\n",
       "    }\n",
       "\n",
       "    .dataframe thead th {\n",
       "        text-align: right;\n",
       "    }\n",
       "</style>\n",
       "<table border=\"1\" class=\"dataframe\">\n",
       "  <thead>\n",
       "    <tr style=\"text-align: right;\">\n",
       "      <th></th>\n",
       "      <th>Site ID</th>\n",
       "      <th>Units</th>\n",
       "      <th>Service Name</th>\n",
       "      <th>Usage</th>\n",
       "      <th>Cost</th>\n",
       "      <th>Thru</th>\n",
       "      <th>From</th>\n",
       "      <th>Item Description</th>\n",
       "    </tr>\n",
       "  </thead>\n",
       "  <tbody>\n",
       "    <tr>\n",
       "      <th>0</th>\n",
       "      <td>44</td>\n",
       "      <td>kWh</td>\n",
       "      <td>Electric</td>\n",
       "      <td>412.0</td>\n",
       "      <td>81.0</td>\n",
       "      <td>2009-01-15</td>\n",
       "      <td>2008-12-15</td>\n",
       "      <td>Energy</td>\n",
       "    </tr>\n",
       "    <tr>\n",
       "      <th>1</th>\n",
       "      <td>44</td>\n",
       "      <td>kWh</td>\n",
       "      <td>Electric</td>\n",
       "      <td>538.0</td>\n",
       "      <td>99.0</td>\n",
       "      <td>2009-02-15</td>\n",
       "      <td>2009-01-15</td>\n",
       "      <td>Energy</td>\n",
       "    </tr>\n",
       "    <tr>\n",
       "      <th>2</th>\n",
       "      <td>44</td>\n",
       "      <td>kWh</td>\n",
       "      <td>Electric</td>\n",
       "      <td>432.0</td>\n",
       "      <td>81.0</td>\n",
       "      <td>2009-03-15</td>\n",
       "      <td>2009-02-15</td>\n",
       "      <td>Energy</td>\n",
       "    </tr>\n",
       "    <tr>\n",
       "      <th>3</th>\n",
       "      <td>44</td>\n",
       "      <td>kWh</td>\n",
       "      <td>Electric</td>\n",
       "      <td>406.0</td>\n",
       "      <td>78.0</td>\n",
       "      <td>2009-04-15</td>\n",
       "      <td>2009-03-15</td>\n",
       "      <td>Energy</td>\n",
       "    </tr>\n",
       "    <tr>\n",
       "      <th>4</th>\n",
       "      <td>44</td>\n",
       "      <td>kWh</td>\n",
       "      <td>Electric</td>\n",
       "      <td>771.0</td>\n",
       "      <td>116.0</td>\n",
       "      <td>2009-05-15</td>\n",
       "      <td>2009-04-15</td>\n",
       "      <td>Energy</td>\n",
       "    </tr>\n",
       "  </tbody>\n",
       "</table>\n",
       "</div>"
      ],
      "text/plain": [
       "   Site ID Units Service Name  Usage   Cost       Thru       From  \\\n",
       "0       44   kWh     Electric  412.0   81.0 2009-01-15 2008-12-15   \n",
       "1       44   kWh     Electric  538.0   99.0 2009-02-15 2009-01-15   \n",
       "2       44   kWh     Electric  432.0   81.0 2009-03-15 2009-02-15   \n",
       "3       44   kWh     Electric  406.0   78.0 2009-04-15 2009-03-15   \n",
       "4       44   kWh     Electric  771.0  116.0 2009-05-15 2009-04-15   \n",
       "\n",
       "  Item Description  \n",
       "0           Energy  \n",
       "1           Energy  \n",
       "2           Energy  \n",
       "3           Energy  \n",
       "4           Energy  "
      ]
     },
     "execution_count": 115,
     "metadata": {},
     "output_type": "execute_result"
    }
   ],
   "source": [
    "df_final.head()"
   ]
  },
  {
   "cell_type": "code",
   "execution_count": 116,
   "metadata": {
    "collapsed": false
   },
   "outputs": [
    {
     "data": {
      "text/plain": [
       "Site ID                      int64\n",
       "Units                       object\n",
       "Service Name                object\n",
       "Usage                      float64\n",
       "Cost                       float64\n",
       "Thru                datetime64[ns]\n",
       "From                datetime64[ns]\n",
       "Item Description            object\n",
       "dtype: object"
      ]
     },
     "execution_count": 116,
     "metadata": {},
     "output_type": "execute_result"
    }
   ],
   "source": [
    "df_final.dtypes"
   ]
  },
  {
   "cell_type": "code",
   "execution_count": 117,
   "metadata": {
    "collapsed": false
   },
   "outputs": [
    {
     "data": {
      "text/plain": [
       "Electric               44407\n",
       "Natural Gas            10815\n",
       "#1 Fuel Oil             6941\n",
       "Steam District Ht       1542\n",
       "#2 Fuel Oil              766\n",
       "Hot Wtr District Ht      657\n",
       "Propane                  290\n",
       "Coal                       4\n",
       "Name: Service Name, dtype: int64"
      ]
     },
     "execution_count": 117,
     "metadata": {},
     "output_type": "execute_result"
    }
   ],
   "source": [
    "df_final['Service Name'].value_counts()"
   ]
  },
  {
   "cell_type": "code",
   "execution_count": 118,
   "metadata": {
    "collapsed": false
   },
   "outputs": [
    {
     "data": {
      "text/plain": [
       "count    65422.000000\n",
       "mean        32.507964\n",
       "std         27.829667\n",
       "min          0.000000\n",
       "25%         30.000000\n",
       "50%         31.000000\n",
       "75%         31.000000\n",
       "max       4780.000000\n",
       "Name: PeriodLength, dtype: float64"
      ]
     },
     "execution_count": 118,
     "metadata": {},
     "output_type": "execute_result"
    }
   ],
   "source": [
    "# Create a column showing length of billing period in days\n",
    "df_final['PeriodLength'] = [d.days for d in (df_final.Thru - df_final.From)]\n",
    "df_final.PeriodLength.describe()"
   ]
  },
  {
   "cell_type": "code",
   "execution_count": 122,
   "metadata": {
    "collapsed": false
   },
   "outputs": [
    {
     "data": {
      "text/plain": [
       "<matplotlib.axes._subplots.AxesSubplot at 0x1ecf384a588>"
      ]
     },
     "execution_count": 122,
     "metadata": {},
     "output_type": "execute_result"
    },
    {
     "data": {
      "image/png": "[encoded data removed]",
      "text/plain": [
       "<matplotlib.figure.Figure at 0x1ecf2a52400>"
      ]
     },
     "metadata": {},
     "output_type": "display_data"
    }
   ],
   "source": [
    "df_final.query('PeriodLength > 120 and PeriodLength < 700').PeriodLength.hist(bins=30)"
   ]
  },
  {
   "cell_type": "code",
   "execution_count": 123,
   "metadata": {
    "collapsed": false
   },
   "outputs": [
    {
     "data": {
      "text/plain": [
       "count    65410.000000\n",
       "mean        32.309953\n",
       "std         17.429088\n",
       "min          0.000000\n",
       "25%         30.000000\n",
       "50%         31.000000\n",
       "75%         31.000000\n",
       "max        428.000000\n",
       "Name: PeriodLength, dtype: float64"
      ]
     },
     "execution_count": 123,
     "metadata": {},
     "output_type": "execute_result"
    }
   ],
   "source": [
    "# Eliminate records with a large number of days in the Billing period\n",
    "df_final.query('PeriodLength < 450', inplace=True)\n",
    "df_final.PeriodLength.describe()"
   ]
  },
  {
   "cell_type": "code",
   "execution_count": null,
   "metadata": {},
   "outputs": [],
   "source": []
  }
 ],
 "metadata": {
  "kernelspec": {
   "display_name": "Python 3",
   "language": "python",
   "name": "python3"
  },
  "language_info": {
   "codemirror_mode": {
    "name": "ipython",
    "version": 3
   },
   "file_extension": ".py",
   "mimetype": "text/x-python",
   "name": "python",
   "nbconvert_exporter": "python",
   "pygments_lexer": "ipython3",
   "version": "3.6.4"
  }
 },
 "nbformat": 4,
 "nbformat_minor": 2
}
